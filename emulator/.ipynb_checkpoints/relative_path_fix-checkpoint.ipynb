{
 "cells": [
  {
   "cell_type": "markdown",
   "metadata": {},
   "source": [
    "## Relative path fix\n",
    "\n",
    "This should be run after the usual preprocessing steps to convert absolute file paths stored in master.csv and trials.csv and replace them with relative file paths."
   ]
  },
  {
   "cell_type": "markdown",
   "metadata": {},
   "source": [
    "### Load Libraries"
   ]
  },
  {
   "cell_type": "code",
   "execution_count": 1,
   "metadata": {},
   "outputs": [],
   "source": [
    "import os\n",
    "import pandas as pd\n",
    "import random\n",
    "import matplotlib.pyplot as plt\n",
    "import rasterio\n",
    "import numpy as np\n",
    "import re"
   ]
  },
  {
   "cell_type": "code",
   "execution_count": 12,
   "metadata": {},
   "outputs": [
    {
     "name": "stdout",
     "output_type": "stream",
     "text": [
      "Index(['sample_name', 'arrival_time_raw', 'intensity_raw', 'heightmap_raw',\n",
      "       'landclass_raw', 'burnmask', 'weather_raw', 'stats',\n",
      "       'arrival_time_proc', 'intensity_prod', 'heightmap_proc',\n",
      "       'landclass_proc', 'weather_proc', 'sample_class', 'num_intervals',\n",
      "       'date', 'duration', 'location', 'area_start', 'area_final',\n",
      "       'resolution', 'interval', 'interval_num', 'max_height', 'min_height',\n",
      "       'max_temp', 'min_temp', 'max_wind', 'min_wind', 'max_RH', 'min_RH',\n",
      "       'wind', 'wind_x', 'wind_y', 'temp', 'RH', 'DF', 'CG', 'weather',\n",
      "       'weather_format', 'class_count', 'burnt_class_count', 'g_max_wind',\n",
      "       'g_min_wind', 'g_max_temp', 'g_min_temp', 'g_max_RH', 'g_min_RH',\n",
      "       'g_max_DF', 'g_min_DF', 'g_max_CG', 'g_min_CG'],\n",
      "      dtype='object')\n"
     ]
    }
   ],
   "source": [
    "root = os.path.dirname(os.path.dirname(os.getcwd()))\n",
    "\n",
    "pick_dir = '/data/'\n",
    "trials_pkl = pick_dir + 'trials.pkl'\n",
    "master_pkl = pick_dir + 'master.pkl'\n",
    "\n",
    "\n",
    "master_df = pd.read_pickle(root + master_pkl)\n",
    "trials_df = pd.read_pickle(root + trials_pkl)\n",
    "\n",
    "print(master_df.columns)"
   ]
  },
  {
   "cell_type": "code",
   "execution_count": 18,
   "metadata": {},
   "outputs": [
    {
     "name": "stdout",
     "output_type": "stream",
     "text": [
      "/home/bol105/python_environments/spark_processing/version_1_demo\n",
      "/home/bol105/python_environments/spark_processing/git/data/raw/FireLocation_24600/FireLocation_24600_Arrival_28.tiff\n",
      "/data/raw/FireLocation_24600/FireLocation_24600_Arrival_28.tiff\n"
     ]
    }
   ],
   "source": [
    "## want to loop over relevent columns in master_df and trails_df and remove the 'root' component from the filepaths\n",
    "\n",
    "print(root)\n",
    "root_ = '/home/bol105/python_environments/spark_processing/git'\n",
    "\n",
    "sample = master_df.loc[0]['arrival_time_raw']\n",
    "print(sample)\n",
    "\n",
    "\n",
    "print(re.sub(root_, '', sample))\n",
    "\n"
   ]
  },
  {
   "cell_type": "code",
   "execution_count": 20,
   "metadata": {},
   "outputs": [
    {
     "ename": "TypeError",
     "evalue": "expected string or bytes-like object",
     "output_type": "error",
     "traceback": [
      "\u001b[0;31m---------------------------------------------------------------------------\u001b[0m",
      "\u001b[0;31mTypeError\u001b[0m                                 Traceback (most recent call last)",
      "Input \u001b[0;32mIn [20]\u001b[0m, in \u001b[0;36m<cell line: 1>\u001b[0;34m()\u001b[0m\n\u001b[0;32m----> 1\u001b[0m master_df[\u001b[38;5;124m'\u001b[39m\u001b[38;5;124marrival_time_raw\u001b[39m\u001b[38;5;124m'\u001b[39m] \u001b[38;5;241m=\u001b[39m [re\u001b[38;5;241m.\u001b[39msub(root_, \u001b[38;5;124m'\u001b[39m\u001b[38;5;124m'\u001b[39m, master_df\u001b[38;5;241m.\u001b[39mloc[trial, \u001b[38;5;124m'\u001b[39m\u001b[38;5;124marrival_time_raw\u001b[39m\u001b[38;5;124m'\u001b[39m]) \u001b[38;5;28;01mfor\u001b[39;00m trial \u001b[38;5;129;01min\u001b[39;00m master_df\u001b[38;5;241m.\u001b[39mindex]\n",
      "Input \u001b[0;32mIn [20]\u001b[0m, in \u001b[0;36m<listcomp>\u001b[0;34m(.0)\u001b[0m\n\u001b[0;32m----> 1\u001b[0m master_df[\u001b[38;5;124m'\u001b[39m\u001b[38;5;124marrival_time_raw\u001b[39m\u001b[38;5;124m'\u001b[39m] \u001b[38;5;241m=\u001b[39m [\u001b[43mre\u001b[49m\u001b[38;5;241;43m.\u001b[39;49m\u001b[43msub\u001b[49m\u001b[43m(\u001b[49m\u001b[43mroot_\u001b[49m\u001b[43m,\u001b[49m\u001b[43m \u001b[49m\u001b[38;5;124;43m'\u001b[39;49m\u001b[38;5;124;43m'\u001b[39;49m\u001b[43m,\u001b[49m\u001b[43m \u001b[49m\u001b[43mmaster_df\u001b[49m\u001b[38;5;241;43m.\u001b[39;49m\u001b[43mloc\u001b[49m\u001b[43m[\u001b[49m\u001b[43mtrial\u001b[49m\u001b[43m,\u001b[49m\u001b[43m \u001b[49m\u001b[38;5;124;43m'\u001b[39;49m\u001b[38;5;124;43marrival_time_raw\u001b[39;49m\u001b[38;5;124;43m'\u001b[39;49m\u001b[43m]\u001b[49m\u001b[43m)\u001b[49m \u001b[38;5;28;01mfor\u001b[39;00m trial \u001b[38;5;129;01min\u001b[39;00m master_df\u001b[38;5;241m.\u001b[39mindex]\n",
      "File \u001b[0;32m/usr/lib/python3.8/re.py:210\u001b[0m, in \u001b[0;36msub\u001b[0;34m(pattern, repl, string, count, flags)\u001b[0m\n\u001b[1;32m    203\u001b[0m \u001b[38;5;28;01mdef\u001b[39;00m \u001b[38;5;21msub\u001b[39m(pattern, repl, string, count\u001b[38;5;241m=\u001b[39m\u001b[38;5;241m0\u001b[39m, flags\u001b[38;5;241m=\u001b[39m\u001b[38;5;241m0\u001b[39m):\n\u001b[1;32m    204\u001b[0m     \u001b[38;5;124;03m\"\"\"Return the string obtained by replacing the leftmost\u001b[39;00m\n\u001b[1;32m    205\u001b[0m \u001b[38;5;124;03m    non-overlapping occurrences of the pattern in string by the\u001b[39;00m\n\u001b[1;32m    206\u001b[0m \u001b[38;5;124;03m    replacement repl.  repl can be either a string or a callable;\u001b[39;00m\n\u001b[1;32m    207\u001b[0m \u001b[38;5;124;03m    if a string, backslash escapes in it are processed.  If it is\u001b[39;00m\n\u001b[1;32m    208\u001b[0m \u001b[38;5;124;03m    a callable, it's passed the Match object and must return\u001b[39;00m\n\u001b[1;32m    209\u001b[0m \u001b[38;5;124;03m    a replacement string to be used.\"\"\"\u001b[39;00m\n\u001b[0;32m--> 210\u001b[0m     \u001b[38;5;28;01mreturn\u001b[39;00m \u001b[43m_compile\u001b[49m\u001b[43m(\u001b[49m\u001b[43mpattern\u001b[49m\u001b[43m,\u001b[49m\u001b[43m \u001b[49m\u001b[43mflags\u001b[49m\u001b[43m)\u001b[49m\u001b[38;5;241;43m.\u001b[39;49m\u001b[43msub\u001b[49m\u001b[43m(\u001b[49m\u001b[43mrepl\u001b[49m\u001b[43m,\u001b[49m\u001b[43m \u001b[49m\u001b[43mstring\u001b[49m\u001b[43m,\u001b[49m\u001b[43m \u001b[49m\u001b[43mcount\u001b[49m\u001b[43m)\u001b[49m\n",
      "\u001b[0;31mTypeError\u001b[0m: expected string or bytes-like object"
     ]
    }
   ],
   "source": [
    "master_df['arrival_time_raw'] = [re.sub(root_, '', master_df.loc[trial, 'arrival_time_raw']) for trial in master_df.index]\n",
    "\n"
   ]
  },
  {
   "cell_type": "code",
   "execution_count": null,
   "metadata": {},
   "outputs": [],
   "source": []
  },
  {
   "cell_type": "markdown",
   "metadata": {},
   "source": []
  }
 ],
 "metadata": {
  "kernelspec": {
   "display_name": "Python 3 (ipykernel)",
   "language": "python",
   "name": "python3"
  },
  "language_info": {
   "codemirror_mode": {
    "name": "ipython",
    "version": 3
   },
   "file_extension": ".py",
   "mimetype": "text/x-python",
   "name": "python",
   "nbconvert_exporter": "python",
   "pygments_lexer": "ipython3",
   "version": "3.8.10"
  }
 },
 "nbformat": 4,
 "nbformat_minor": 4
}
